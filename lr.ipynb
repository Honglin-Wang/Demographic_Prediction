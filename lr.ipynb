{
 "cells": [
  {
   "cell_type": "code",
   "execution_count": 1,
   "metadata": {
    "collapsed": false
   },
   "outputs": [
    {
     "name": "stdout",
     "output_type": "stream",
     "text": [
      "file reading is done!\n"
     ]
    }
   ],
   "source": [
    "import pandas as pd\n",
    "import numpy as np\n",
    "%matplotlib inline\n",
    "import seaborn as sns\n",
    "import matplotlib.pyplot as plt\n",
    "import os\n",
    "from sklearn.preprocessing import LabelEncoder, OneHotEncoder\n",
    "from scipy.sparse import csr_matrix, hstack\n",
    "from sklearn.linear_model import LogisticRegression\n",
    "from sklearn.model_selection import StratifiedKFold\n",
    "from sklearn.metrics import log_loss\n",
    "\n",
    "from warnings import simplefilter\n",
    "# ignore all future warnings\n",
    "simplefilter(action='ignore', category=FutureWarning)\n",
    "\n",
    "\n",
    "os.chdir('C:/Users/honglin.wang/Documents/ML/talkingdata-mobile-user-demographics')\n",
    "\n",
    "datadir = './'\n",
    "gatrain = pd.read_csv(os.path.join(datadir,'gender_age_train.csv'),\n",
    "                      index_col='device_id')\n",
    "gatest = pd.read_csv(os.path.join(datadir,'gender_age_test.csv'),\n",
    "                     index_col = 'device_id')\n",
    "phone = pd.read_csv(os.path.join(datadir,'phone_brand_device_model.csv'))\n",
    "# Get rid of duplicate device ids in phone\n",
    "phone = phone.drop_duplicates('device_id',keep='first').set_index('device_id')\n",
    "events = pd.read_csv(os.path.join(datadir,'events.csv'),\n",
    "                     parse_dates=['timestamp'], index_col='event_id')\n",
    "appevents = pd.read_csv(os.path.join(datadir,'app_events.csv'), \n",
    "                        usecols=['event_id','app_id','is_active'],\n",
    "                        dtype={'is_active':bool})\n",
    "applabels = pd.read_csv(os.path.join(datadir,'app_labels.csv'))\n",
    "\n",
    "print('file reading is done!')"
   ]
  },
  {
   "cell_type": "code",
   "execution_count": 2,
   "metadata": {
    "collapsed": false
   },
   "outputs": [
    {
     "name": "stdout",
     "output_type": "stream",
     "text": [
      "Brand features: train shape (74645, 131), test shape (112071, 131)\n"
     ]
    }
   ],
   "source": [
    "# to calculate feature brand\n",
    "gatrain['trainrow'] = np.arange(gatrain.shape[0])\n",
    "gatest['testrow'] = np.arange(gatest.shape[0])\n",
    "\n",
    "brandencoder = LabelEncoder().fit(phone.phone_brand)\n",
    "phone['brand'] = brandencoder.transform(phone['phone_brand'])\n",
    "gatrain['brand'] = phone['brand']\n",
    "gatest['brand'] = phone['brand']\n",
    "\n",
    "Xtr_brand = csr_matrix((np.ones(gatrain.shape[0]), \n",
    "                       (gatrain.trainrow, gatrain.brand)))\n",
    "Xte_brand = csr_matrix((np.ones(gatest.shape[0]), \n",
    "                       (gatest.testrow, gatest.brand)))\n",
    "# print(gatrain.head(20))\n",
    "# print(type(Xtr_brand))\n",
    "print('Brand features: train shape {}, test shape {}'.format(Xtr_brand.shape, Xte_brand.shape))"
   ]
  },
  {
   "cell_type": "code",
   "execution_count": 45,
   "metadata": {
    "collapsed": false
   },
   "outputs": [],
   "source": [
    "\n",
    "# print(gatrain.brand)\n",
    "# print(Xtr_brand.toarray().shape)"
   ]
  },
  {
   "cell_type": "code",
   "execution_count": 3,
   "metadata": {},
   "outputs": [
    {
     "name": "stdout",
     "output_type": "stream",
     "text": [
      "device_id\n-8890648629457979026               小米红米\n 1277779817574759137             小米MI 2\n 5137427614288105724        三星Galaxy S4\n 3669464369358936369          SUGAR时尚手机\n-5019277647504317457    三星Galaxy Note 2\nName: phone_brand, dtype: object\nModel features: train shape (74645, 1667), test shape (112071, 1667)\n"
     ]
    }
   ],
   "source": [
    "# to calculate the feature model\n",
    "m = phone.phone_brand.str.cat(phone.device_model)\n",
    "print(m.head())\n",
    "modelencoder = LabelEncoder().fit(m)\n",
    "phone['model'] = modelencoder.transform(m)\n",
    "gatrain['model'] = phone['model']\n",
    "gatest['model'] = phone['model']\n",
    "Xtr_model = csr_matrix((np.ones(gatrain.shape[0]),(gatrain.trainrow, gatrain.model)))\n",
    "Xte_model = csr_matrix((np.ones(gatest.shape[0]), \n",
    "                       (gatest.testrow, gatest.model)))\n",
    "print('Model features: train shape {}, test shape {}'.format(Xtr_model.shape, Xte_model.shape))\n"
   ]
  },
  {
   "cell_type": "code",
   "execution_count": 4,
   "metadata": {
    "collapsed": false
   },
   "outputs": [
    {
     "name": "stdout",
     "output_type": "stream",
     "text": [
      "<class 'pandas.core.frame.DataFrame'>\nRangeIndex: 32473067 entries, 0 to 32473066\nData columns (total 4 columns):\nevent_id     int64\napp_id       int64\nis_active    bool\napp          int64\ndtypes: bool(1), int64(3)\nmemory usage: 774.2 MB\nNone\n19237\n"
     ]
    },
    {
     "name": "stdout",
     "output_type": "stream",
     "text": [
      "             device_id   app  size  trainrow  testrow\n0 -9222956879900151005   548    18   21594.0      NaN\n1 -9222956879900151005  1096    18   21594.0      NaN\n2 -9222956879900151005  1248    26   21594.0      NaN\n3 -9222956879900151005  1545    12   21594.0      NaN\n4 -9222956879900151005  1664    18   21594.0      NaN\n"
     ]
    },
    {
     "name": "stdout",
     "output_type": "stream",
     "text": [
      "Apps data: train shape (74645, 19237), test shape (112071, 19237)\n"
     ]
    }
   ],
   "source": [
    "appencoder = LabelEncoder().fit(appevents.app_id)\n",
    "appevents['app'] = appencoder.transform(appevents.app_id)\n",
    "print(appevents.info())\n",
    "napps = len(appencoder.classes_)\n",
    "print(napps)\n",
    "\n",
    "# print(appevents.merge(events[['device_id']], how='left',left_on='event_id',right_index=True)\n",
    "#                        .groupby(['device_id','app'])['app'].agg(['size']))\n",
    "\n",
    "deviceapps = (appevents.merge(events[['device_id']], how='left',left_on='event_id',right_index=True)\n",
    "                       .groupby(['device_id','app'])['app'].agg(['size'])\n",
    "                       .merge(gatrain[['trainrow']], how='left', left_index=True, right_index=True)\n",
    "                       .merge(gatest[['testrow']], how='left', left_index=True, right_index=True)\n",
    "                       .reset_index())\n",
    "print(deviceapps.head())\n",
    "\n",
    "d = deviceapps.dropna(subset=['trainrow'])\n",
    "Xtr_app = csr_matrix((np.ones(d.shape[0]), (d.trainrow, d.app)), \n",
    "                      shape=(gatrain.shape[0],napps))\n",
    "# print(Xtr_app)\n",
    "d = deviceapps.dropna(subset=['testrow'])\n",
    "Xte_app = csr_matrix((np.ones(d.shape[0]), (d.testrow, d.app)), \n",
    "                      shape=(gatest.shape[0],napps))\n",
    "print('Apps data: train shape {}, test shape {}'.format(Xtr_app.shape, Xte_app.shape))\n",
    "\n"
   ]
  },
  {
   "cell_type": "code",
   "execution_count": 5,
   "metadata": {
    "collapsed": false
   },
   "outputs": [
    {
     "name": "stdout",
     "output_type": "stream",
     "text": [
      "<class 'pandas.core.frame.DataFrame'>\nRangeIndex: 2369025 entries, 0 to 2369024\nData columns (total 5 columns):\ndevice_id    int64\napp          int64\nsize         int64\ntrainrow     float64\ntestrow      float64\ndtypes: float64(2), int64(3)\nmemory usage: 90.4 MB\nNone\n<class 'pandas.core.frame.DataFrame'>\nInt64Index: 78204 entries, 0 to 459942\nData columns (total 4 columns):\napp_id      78204 non-null int64\nlabel_id    78204 non-null int64\napp         78204 non-null int64\nlabel       78204 non-null int64\ndtypes: int64(4)\nmemory usage: 3.0 MB\nNone\n"
     ]
    },
    {
     "name": "stdout",
     "output_type": "stream",
     "text": [
      "             device_id  label  size  trainrow  testrow\n0 -9222956879900151005    117     1   21594.0      NaN\n1 -9222956879900151005    120     1   21594.0      NaN\n2 -9222956879900151005    126     1   21594.0      NaN\n3 -9222956879900151005    138     2   21594.0      NaN\n4 -9222956879900151005    147     2   21594.0      NaN\n"
     ]
    },
    {
     "name": "stdout",
     "output_type": "stream",
     "text": [
      "Labels data: train shape (74645, 492), test shape (112071, 492)\n"
     ]
    }
   ],
   "source": [
    "# to calculate feature label\n",
    "applabels = applabels.loc[applabels.app_id.isin(appevents.app_id.unique())]\n",
    "applabels['app'] = appencoder.transform(applabels.app_id)\n",
    "labelencoder = LabelEncoder().fit(applabels.label_id)\n",
    "applabels['label'] = labelencoder.transform(applabels.label_id)\n",
    "nlabels = len(labelencoder.classes_)\n",
    "\n",
    "print(deviceapps.info())\n",
    "print(applabels.info())\n",
    "device_app_label = deviceapps[['device_id','app']].merge(applabels[['app','label']]).groupby(['device_id','label'])['app'].agg(['size'])\n",
    "\n",
    "devicelabels = (deviceapps[['device_id','app']]\n",
    "                .merge(applabels[['app','label']])\n",
    "                .groupby(['device_id','label'])['app'].agg(['size'])\n",
    "                .merge(gatrain[['trainrow']], how='left', left_index=True, right_index=True)\n",
    "                .merge(gatest[['testrow']], how='left', left_index=True, right_index=True)\n",
    "                .reset_index())\n",
    "\n",
    "print(devicelabels.head())\n",
    "\n",
    "d = devicelabels.dropna(subset=['trainrow'])\n",
    "Xtr_label = csr_matrix((np.ones(d.shape[0]), (d.trainrow, d.label)), \n",
    "                      shape=(gatrain.shape[0],nlabels))\n",
    "d = devicelabels.dropna(subset=['testrow'])\n",
    "Xte_label = csr_matrix((np.ones(d.shape[0]), (d.testrow, d.label)), \n",
    "                      shape=(gatest.shape[0],nlabels))\n",
    "print('Labels data: train shape {}, test shape {}'.format(Xtr_label.shape, Xte_label.shape))\n"
   ]
  },
  {
   "cell_type": "code",
   "execution_count": 57,
   "metadata": {
    "collapsed": false
   },
   "outputs": [
    {
     "name": "stdout",
     "output_type": "stream",
     "text": [
      "[['Male', 1], ['Female', 3], ['Female', 2]]\n[array(['Female', 'Male'], dtype=object), array([1, 2, 3], dtype=object)]\n[[1. 0. 1. 0. 0.]\n [0. 1. 0. 0. 0.]]\n[['Male' 1]\n [None 2]]\n['x0_Female' 'x0_Male' 'x1_1' 'x1_2' 'x1_3']\n[[0. 1. 0.]]\nxx\n"
     ]
    }
   ],
   "source": [
    "# print(nlabels)\n",
    "# print(d.shape[0])\n",
    "# print(np.ones(d.shape[0]))\n",
    "# print(devicelabels.shape)\n",
    "# print(d.shape)\n",
    "# print(len(d.trainrow))\n",
    "# print(Xtr_label.shape[1] + Xtr_model.shape[1] + Xtr_app.shape[1] + Xtr_brand.shape[1])\n",
    "# print(Xtr_model.shape)\n",
    "# print(Xtr_app.shape)\n",
    "# print(Xtr_brand.shape)\n",
    "\n",
    "from sklearn.preprocessing import OneHotEncoder\n",
    "enc = OneHotEncoder(handle_unknown='ignore')\n",
    "X = [['Male', 1], ['Female', 3], ['Female', 2]]\n",
    "print(X)\n",
    "enc.fit(X)\n",
    "# enc = OneHotEncoder(categorical_features=None, categories=None,handle_unknown='ignore',n_values=None, sparse=True)\n",
    "print(enc.categories_)\n",
    "print(enc.transform([['Female', 1],['Male', 4]]).toarray())\n",
    "print(enc.inverse_transform([[0, 1, 1, 0, 0], [0, 0, 0, 1, 0]]))\n",
    "print(enc.get_feature_names())\n",
    "\n",
    "ohe = OneHotEncoder() \n",
    "ohe.fit([['A'],['D'],['B']]) \n",
    "print(ohe.transform([['B']]).toarray())\n",
    "print('xx')\n"
   ]
  },
  {
   "cell_type": "code",
   "execution_count": 36,
   "metadata": {
    "collapsed": false
   },
   "outputs": [
    {
     "name": "stdout",
     "output_type": "stream",
     "text": [
      "21527\nAll features: train shape (74645, 21527), test shape (112071, 21527)\n"
     ]
    }
   ],
   "source": [
    "# Concatenate all features\n",
    "Xtrain = hstack((Xtr_brand, Xtr_model, Xtr_app, Xtr_label), format='csr')\n",
    "Xtest =  hstack((Xte_brand, Xte_model, Xte_app, Xte_label), format='csr')\n",
    "print(Xtr_brand.shape[1]+Xtr_model.shape[1]+Xtr_app.shape[1]+Xtr_label.shape[1])\n",
    "print('All features: train shape {}, test shape {}'.format(Xtrain.shape, Xtest.shape))"
   ]
  },
  {
   "cell_type": "code",
   "execution_count": 8,
   "metadata": {},
   "outputs": [
    {
     "name": "stdout",
     "output_type": "stream",
     "text": [
      "parameter C = 0.001000\n"
     ]
    },
    {
     "name": "stdout",
     "output_type": "stream",
     "text": [
      "parameter C = 0.010000\n"
     ]
    },
    {
     "name": "stdout",
     "output_type": "stream",
     "text": [
      "parameter C = 0.100000\n"
     ]
    },
    {
     "name": "stdout",
     "output_type": "stream",
     "text": [
      "parameter C = 1.000000\n"
     ]
    },
    {
     "name": "stdout",
     "output_type": "stream",
     "text": [
      "train done!\n"
     ]
    },
    {
     "data": {
      "text/plain": [
       "[<matplotlib.lines.Line2D at 0x1b02d28c3c8>]"
      ]
     },
     "execution_count": 8,
     "metadata": {},
     "output_type": "execute_result"
    },
    {
     "data": {
      "image/png": "[encoded data removed]",
      "text/plain": [
       "<Figure size 432x288 with 1 Axes>"
      ]
     },
     "metadata": {},
     "output_type": "display_data"
    }
   ],
   "source": [
    "\n",
    "# to do cross validation\n",
    "targetencoder = LabelEncoder().fit(gatrain.group)\n",
    "y = targetencoder.transform(gatrain.group)\n",
    "nclasses = len(targetencoder.classes_)\n",
    "\n",
    "def score(clf, y, random_state = 0):\n",
    "    kf = StratifiedKFold(n_splits = 5, shuffle=True, random_state=random_state)\n",
    "    pred = np.zeros((y.shape[0],nclasses))\n",
    "    for itrain, itest in kf.split(Xtrain,y):\n",
    "        # print('start to train!')\n",
    "        Xtr, Xte = Xtrain[itrain, :], Xtrain[itest, :]\n",
    "        ytr, yte = y[itrain], y[itest]\n",
    "        clf.fit(Xtr, ytr)\n",
    "        pred[itest,:] = clf.predict_proba(Xte)\n",
    "        # print(\"{:.5f}\\n\".format(log_loss(yte, pred[itest,:])), end=' ')\n",
    "    \n",
    "    return log_loss(y, pred)\n",
    "\n",
    "Cs = np.logspace(-3,0,4)\n",
    "res = []\n",
    "for C in Cs:\n",
    "    print('parameter C = %f' % C)\n",
    "    res.append(score(LogisticRegression(C = C),y))\n",
    "print('train done!')\n",
    "plt.semilogx(Cs, res,'-o')"
   ]
  },
  {
   "cell_type": "code",
   "execution_count": 59,
   "metadata": {},
   "outputs": [
    {
     "name": "stdout",
     "output_type": "stream",
     "text": [
      "2.280714736659567\n"
     ]
    },
    {
     "name": "stdout",
     "output_type": "stream",
     "text": [
      "2.2743779810164813\n"
     ]
    },
    {
     "name": "stdout",
     "output_type": "stream",
     "text": [
      "[[0.00143121 0.00602622 0.01330543 ... 0.12167929 0.25972039 0.39571501]\n [0.00731995 0.01334841 0.03112557 ... 0.07658355 0.23208479 0.20556344]\n [0.0235273  0.03667574 0.03651547 ... 0.10327173 0.18194779 0.13246249]\n ...\n [0.06802983 0.05091064 0.03760672 ... 0.12386035 0.1040735  0.09042311]\n [0.06802983 0.05091064 0.03760672 ... 0.12386035 0.1040735  0.09042311]\n [0.06213059 0.06725585 0.04908115 ... 0.08890525 0.09350414 0.07477696]]\n"
     ]
    }
   ],
   "source": [
    "# from the plot pic, the best C value should be in range (0.01, 1.0), therefore, let's set C = 0.02\n",
    "best_c = 0.02\n",
    "lr = LogisticRegression(C = best_c)\n",
    "print(score(lr,y))\n",
    "\n",
    "# although LR can handle multipleclass classfication problem, we would take advantage of multinomial to see if there are better performance\n",
    "lr = LogisticRegression(C = best_c,multi_class='multinomial',solver='lbfgs')\n",
    "print(score(lr,y))\n",
    "lr.fit(Xtrain,y)\n",
    "pred_y = lr.predict_proba(Xtest)\n",
    "print(pred_y)\n"
   ]
  },
  {
   "cell_type": "code",
   "execution_count": null,
   "metadata": {},
   "outputs": [],
   "source": []
  }
 ],
 "metadata": {
  "kernelspec": {
   "display_name": "Python 2",
   "language": "python",
   "name": "python2"
  },
  "language_info": {
   "codemirror_mode": {
    "name": "ipython",
    "version": 2
   },
   "file_extension": ".py",
   "mimetype": "text/x-python",
   "name": "python",
   "nbconvert_exporter": "python",
   "pygments_lexer": "ipython2",
   "version": "2.7.6"
  }
 },
 "nbformat": 4,
 "nbformat_minor": 0
}
